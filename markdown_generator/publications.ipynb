{
 "cells": [
  {
   "cell_type": "markdown",
   "metadata": {
    "deletable": true,
    "editable": true
   },
   "source": [
    "# Publications markdown generator for academicpages\n",
    "\n",
    "Takes a TSV of publications with metadata and converts them for use with [academicpages.github.io](academicpages.github.io). This is an interactive Jupyter notebook ([see more info here](http://jupyter-notebook-beginner-guide.readthedocs.io/en/latest/what_is_jupyter.html)). The core python code is also in `publications.py`. Run either from the `markdown_generator` folder after replacing `publications.tsv` with one containing your data.\n",
    "\n",
    "TODO: Make this work with BibTex and other databases of citations, rather than Stuart's non-standard TSV format and citation style.\n"
   ]
  },
  {
   "cell_type": "markdown",
   "metadata": {},
   "source": [
    "## Data format\n",
    "\n",
    "The TSV needs to have the following columns: pub_date, title, venue, excerpt, citation, site_url, and paper_url, with a header at the top. \n",
    "\n",
    "- `excerpt` and `paper_url` can be blank, but the others must have values. \n",
    "- `pub_date` must be formatted as YYYY-MM-DD.\n",
    "- `url_slug` will be the descriptive part of the .md file and the permalink URL for the page about the paper. The .md file will be `YYYY-MM-DD-[url_slug].md` and the permalink will be `https://[yourdomain]/publications/YYYY-MM-DD-[url_slug]`\n",
    "\n",
    "This is how the raw file looks (it doesn't look pretty, use a spreadsheet or other program to edit and create)."
   ]
  },
  {
   "cell_type": "code",
   "execution_count": 18,
   "metadata": {
    "collapsed": false
   },
   "outputs": [
    {
     "name": "stdout",
     "output_type": "stream",
     "text": [
      "[\n",
      "    {\n",
      "        \"pub_date\": \"2021-09-01\", \n",
      "        \"url_slug\": \"drip-paper\", \n",
      "        \"paper_url\": \"(internal)\",\n",
      "        \"title\": \"Squeezing the last DRiP: AutoML for cost-constrained Product classification\",\n",
      "        \"venue\": \"Amazon Machine Learning Conference (AMLC 2021)\", \n",
      "        \"citation\": \"<u>Abhishek Divekar</u>*, Gaurav Manchanda*, Prit Raj, Abhishek Das, Karan Tanwar, Akshay Jagatap, Vinayak Puranik, Jagannathan Srinivasan, Ramakrishna Nalam, Nikhil Rasiwasia (2021). \\\"Squeezing the last DRiP: AutoML for cost-constrained product classification\\\" <i>Amazon Machine Learning Conference</i> (Poster, ~30% acceptance-rate)\", \n",
      "        \"excerpt\": \"This paper is about the number 1. The number 2 is left for future work.\"\n",
      "    },\n",
      "    {\n",
      "        \"pub_date\": \"2021-09-01\", \n",
      "        \"url_slug\": \"cpp-benchmark-paper\", \n",
      "        \"paper_url\": \"(internal)\",\n",
      "        \"title\": \"The CPP Multimodal AutoML Corpus and Benchmark\",\n",
      "        \"venue\": \"1st Workshop on MultiModal Learning and Fusion, AMLC 2021\", \n",
      "        \"citation\": \"Andrew Borthwick, <u>Abhishek Divekar</u>, Nick Erickson, Fayaz Ahmed Farooque, Oleg Kim, Nikhil Rasiwasia, and Ethan Xu (2021). \\\"The CPP Multimodal AutoML Corpus and Benchmark\\\" <i>1st AMLC Workshop on MultiModal Learning and Fusion 2021</i> (Oral)\", \n",
      "        \"excerpt\": \"This paper is about the number 1. The number 2 is left for future work.\"\n",
      "    },\n",
      "    {\n",
      "        \"pub_date\": \"2021-03-01\", \n",
      "        \"url_slug\": \"leap-paper\", \n",
      "        \"paper_url\": \"(internal)\",\n",
      "        \"title\": \"LEAP: LEAf node Predictions in the wild\",\n",
      "        \"venue\": \"2nd ASCS Applied Science Workshop, 2021\", \n",
      "        \"citation\": \"<u>Abhishek Divekar</u>, Vinayak Puranik, Zhenyu Shi, Jinmiao Fu, Nikhil Rasiwasia (2021). \\\"LEAP: LEAf node Predictions in the wild\\\" <i>2nd ASCS Applied Science Workshop, 2021</i> (Oral)\", \n",
      "        \"excerpt\": \"This paper is about the number 1. The number 2 is left for future work.\"\n",
      "    },\n",
      "    {\n",
      "        \"pub_date\": \"2020-09-01\", \n",
      "        \"url_slug\": \"eps-paper\", \n",
      "        \"paper_url\": \"(internal)\",\n",
      "        \"title\": \"EPS: a configurable, end-to-end AutoML system\",\n",
      "        \"venue\": \"Workshop on Automated Machine Learning, AMLC 2020\", \n",
      "        \"citation\": \"Gaurav Manchanda*, <u>Abhishek Divekar</u>*, Akshay Jagatap, Prit Raj, Vinayak Puranik, Nikhil Rasiwasia, Ramakrishna Nalam, Jagannathan Srinivasa (2020). \\\"EPS: a configurable, end-to-end AutoML system\\\" <i>Workshop on Automated Machine Learning, AMLC 2020</i> (Poster)\",\n",
      "        \"excerpt\": \"This paper is about the number 1. The number 2 is left for future work.\"\n",
      "    },\n",
      "    {\n",
      "        \"pub_date\": \"2018-10-25\", \n",
      "        \"url_slug\": \"kddcup99-paper\", \n",
      "        \"paper_url\": \"https://arxiv.org/abs/1811.05372\",\n",
      "        \"title\": \"Benchmarking datasets for Anomaly-based Network Intrusion Detection: KDD CUP 99 alternatives\",\n",
      "        \"venue\": \"IEEE International Conference on Computing, Communication and Security, 2018\", \n",
      "        \"citation\": \"<u>Abhishek Divekar</u>, Meet Parekh, Vaibhav Savla, Rudra Mishra, and Mahesh Shirole (2018). \\\"Benchmarking datasets for Anomaly-based Network Intrusion Detection: KDD CUP 99 alternatives\\\" <i>IEEE International Conference on Computing, Communication and Security 2018</i> (Oral)\",\n",
      "        \"excerpt\": \"This paper is about the number 1. The number 2 is left for future work.\"\n",
      "    }\n",
      "]"
     ]
    }
   ],
   "source": [
    "!cat publications.json"
   ]
  },
  {
   "cell_type": "markdown",
   "metadata": {},
   "source": [
    "## Import pandas\n",
    "\n",
    "We are using the very handy pandas library for dataframes."
   ]
  },
  {
   "cell_type": "code",
   "execution_count": 19,
   "metadata": {
    "collapsed": true,
    "deletable": true,
    "editable": true
   },
   "outputs": [],
   "source": [
    "import pandas as pd"
   ]
  },
  {
   "cell_type": "markdown",
   "metadata": {},
   "source": [
    "## Import TSV\n",
    "\n",
    "Pandas makes this easy with the read_csv function. We are using a TSV, so we specify the separator as a tab, or `\\t`.\n",
    "\n",
    "I found it important to put this data in a tab-separated values format, because there are a lot of commas in this kind of data and comma-separated values can get messed up. However, you can modify the import statement, as pandas also has read_excel(), read_json(), and others."
   ]
  },
  {
   "cell_type": "code",
   "execution_count": 20,
   "metadata": {
    "collapsed": false,
    "deletable": true,
    "editable": true
   },
   "outputs": [
    {
     "data": {
      "text/html": [
       "<div>\n",
       "<style scoped>\n",
       "    .dataframe tbody tr th:only-of-type {\n",
       "        vertical-align: middle;\n",
       "    }\n",
       "\n",
       "    .dataframe tbody tr th {\n",
       "        vertical-align: top;\n",
       "    }\n",
       "\n",
       "    .dataframe thead th {\n",
       "        text-align: right;\n",
       "    }\n",
       "</style>\n",
       "<table border=\"1\" class=\"dataframe\">\n",
       "  <thead>\n",
       "    <tr style=\"text-align: right;\">\n",
       "      <th></th>\n",
       "      <th>pub_date</th>\n",
       "      <th>url_slug</th>\n",
       "      <th>paper_url</th>\n",
       "      <th>title</th>\n",
       "      <th>venue</th>\n",
       "      <th>citation</th>\n",
       "      <th>excerpt</th>\n",
       "    </tr>\n",
       "  </thead>\n",
       "  <tbody>\n",
       "    <tr>\n",
       "      <th>0</th>\n",
       "      <td>2021-09-01</td>\n",
       "      <td>drip-paper</td>\n",
       "      <td>(internal)</td>\n",
       "      <td>Squeezing the last DRiP: AutoML for cost-const...</td>\n",
       "      <td>Amazon Machine Learning Conference (AMLC 2021)</td>\n",
       "      <td>&lt;u&gt;Abhishek Divekar&lt;/u&gt;*, Gaurav Manchanda*, P...</td>\n",
       "      <td>This paper is about the number 1. The number 2...</td>\n",
       "    </tr>\n",
       "    <tr>\n",
       "      <th>1</th>\n",
       "      <td>2021-09-01</td>\n",
       "      <td>cpp-benchmark-paper</td>\n",
       "      <td>(internal)</td>\n",
       "      <td>The CPP Multimodal AutoML Corpus and Benchmark</td>\n",
       "      <td>1st Workshop on MultiModal Learning and Fusion...</td>\n",
       "      <td>Andrew Borthwick, &lt;u&gt;Abhishek Divekar&lt;/u&gt;, Nic...</td>\n",
       "      <td>This paper is about the number 1. The number 2...</td>\n",
       "    </tr>\n",
       "    <tr>\n",
       "      <th>2</th>\n",
       "      <td>2021-03-01</td>\n",
       "      <td>leap-paper</td>\n",
       "      <td>(internal)</td>\n",
       "      <td>LEAP: LEAf node Predictions in the wild</td>\n",
       "      <td>2nd ASCS Applied Science Workshop, 2021</td>\n",
       "      <td>&lt;u&gt;Abhishek Divekar&lt;/u&gt;, Vinayak Puranik, Zhen...</td>\n",
       "      <td>This paper is about the number 1. The number 2...</td>\n",
       "    </tr>\n",
       "    <tr>\n",
       "      <th>3</th>\n",
       "      <td>2020-09-01</td>\n",
       "      <td>eps-paper</td>\n",
       "      <td>(internal)</td>\n",
       "      <td>EPS: a configurable, end-to-end AutoML system</td>\n",
       "      <td>Workshop on Automated Machine Learning, AMLC 2020</td>\n",
       "      <td>Gaurav Manchanda*, &lt;u&gt;Abhishek Divekar&lt;/u&gt;*, A...</td>\n",
       "      <td>This paper is about the number 1. The number 2...</td>\n",
       "    </tr>\n",
       "    <tr>\n",
       "      <th>4</th>\n",
       "      <td>2018-10-25</td>\n",
       "      <td>kddcup99-paper</td>\n",
       "      <td>https://arxiv.org/abs/1811.05372</td>\n",
       "      <td>Benchmarking datasets for Anomaly-based Networ...</td>\n",
       "      <td>IEEE International Conference on Computing, Co...</td>\n",
       "      <td>&lt;u&gt;Abhishek Divekar&lt;/u&gt;, Meet Parekh, Vaibhav ...</td>\n",
       "      <td>This paper is about the number 1. The number 2...</td>\n",
       "    </tr>\n",
       "  </tbody>\n",
       "</table>\n",
       "</div>"
      ],
      "text/plain": [
       "     pub_date             url_slug                         paper_url  \\\n",
       "0  2021-09-01           drip-paper                        (internal)   \n",
       "1  2021-09-01  cpp-benchmark-paper                        (internal)   \n",
       "2  2021-03-01           leap-paper                        (internal)   \n",
       "3  2020-09-01            eps-paper                        (internal)   \n",
       "4  2018-10-25       kddcup99-paper  https://arxiv.org/abs/1811.05372   \n",
       "\n",
       "                                               title  \\\n",
       "0  Squeezing the last DRiP: AutoML for cost-const...   \n",
       "1     The CPP Multimodal AutoML Corpus and Benchmark   \n",
       "2            LEAP: LEAf node Predictions in the wild   \n",
       "3      EPS: a configurable, end-to-end AutoML system   \n",
       "4  Benchmarking datasets for Anomaly-based Networ...   \n",
       "\n",
       "                                               venue  \\\n",
       "0     Amazon Machine Learning Conference (AMLC 2021)   \n",
       "1  1st Workshop on MultiModal Learning and Fusion...   \n",
       "2            2nd ASCS Applied Science Workshop, 2021   \n",
       "3  Workshop on Automated Machine Learning, AMLC 2020   \n",
       "4  IEEE International Conference on Computing, Co...   \n",
       "\n",
       "                                            citation  \\\n",
       "0  <u>Abhishek Divekar</u>*, Gaurav Manchanda*, P...   \n",
       "1  Andrew Borthwick, <u>Abhishek Divekar</u>, Nic...   \n",
       "2  <u>Abhishek Divekar</u>, Vinayak Puranik, Zhen...   \n",
       "3  Gaurav Manchanda*, <u>Abhishek Divekar</u>*, A...   \n",
       "4  <u>Abhishek Divekar</u>, Meet Parekh, Vaibhav ...   \n",
       "\n",
       "                                             excerpt  \n",
       "0  This paper is about the number 1. The number 2...  \n",
       "1  This paper is about the number 1. The number 2...  \n",
       "2  This paper is about the number 1. The number 2...  \n",
       "3  This paper is about the number 1. The number 2...  \n",
       "4  This paper is about the number 1. The number 2...  "
      ]
     },
     "execution_count": 20,
     "metadata": {},
     "output_type": "execute_result"
    }
   ],
   "source": [
    "publications = pd.read_json(\"publications.json\")\n",
    "publications\n"
   ]
  },
  {
   "cell_type": "markdown",
   "metadata": {},
   "source": [
    "## Escape special characters\n",
    "\n",
    "YAML is very picky about how it takes a valid string, so we are replacing single and double quotes (and ampersands) with their HTML encoded equivilents. This makes them look not so readable in raw format, but they are parsed and rendered nicely."
   ]
  },
  {
   "cell_type": "code",
   "execution_count": 21,
   "metadata": {
    "collapsed": true,
    "deletable": true,
    "editable": true
   },
   "outputs": [],
   "source": [
    "html_escape_table = {\n",
    "    \"&\": \"&amp;\",\n",
    "    '\"': \"&quot;\",\n",
    "    \"'\": \"&apos;\"\n",
    "    }\n",
    "\n",
    "def html_escape(text):\n",
    "    \"\"\"Produce entities within text.\"\"\"\n",
    "    return \"\".join(html_escape_table.get(c,c) for c in text)"
   ]
  },
  {
   "cell_type": "markdown",
   "metadata": {},
   "source": [
    "## Creating the markdown files\n",
    "\n",
    "This is where the heavy lifting is done. This loops through all the rows in the TSV dataframe, then starts to concatentate a big string (```md```) that contains the markdown for each type. It does the YAML metadata first, then does the description for the individual page."
   ]
  },
  {
   "cell_type": "code",
   "execution_count": 22,
   "metadata": {
    "collapsed": false,
    "deletable": true,
    "editable": true
   },
   "outputs": [],
   "source": [
    "import os\n",
    "for row, item in publications.iterrows():\n",
    "    \n",
    "    md_filename = str(item.pub_date) + \"-\" + item.url_slug + \".md\"\n",
    "    html_filename = str(item.pub_date) + \"-\" + item.url_slug\n",
    "    year = item.pub_date[:4]\n",
    "    \n",
    "    ## YAML variables\n",
    "    \n",
    "    md = \"---\\ntitle: \\\"\"   + item.title + '\"\\n'\n",
    "    \n",
    "    md += \"\"\"collection: publications\"\"\"\n",
    "    \n",
    "    md += \"\"\"\\npermalink: /publication/\"\"\" + html_filename\n",
    "    \n",
    "    if len(str(item.excerpt)) > 5:\n",
    "        md += \"\\nexcerpt: '\" + html_escape(item.excerpt) + \"'\"\n",
    "    \n",
    "    md += \"\\ndate: \" + str(item.pub_date) \n",
    "    \n",
    "    md += \"\\nvenue: '\" + html_escape(item.venue) + \"'\"\n",
    "    \n",
    "    if len(str(item.paper_url)) > 5:\n",
    "        md += \"\\npaperurl: '\" + item.paper_url + \"'\"\n",
    "    \n",
    "    md += \"\\ncitation: '\" + html_escape(item.citation) + \"'\"\n",
    "    \n",
    "    md += \"\\n---\"\n",
    "    \n",
    "    ## Markdown description for individual page\n",
    "        \n",
    "    if len(str(item.excerpt)) > 5:\n",
    "        md += \"\\n\" + html_escape(item.excerpt) + \"\\n\"\n",
    "    \n",
    "    if len(str(item.paper_url)) > 5:\n",
    "        md += \"\\n[Download paper here](\" + item.paper_url + \")\\n\" \n",
    "        \n",
    "    md += \"\\nRecommended citation: \" + item.citation\n",
    "    \n",
    "    md_filename = os.path.basename(md_filename)\n",
    "       \n",
    "    with open(\"../_publications/\" + md_filename, 'w') as f:\n",
    "        f.write(md)"
   ]
  },
  {
   "cell_type": "markdown",
   "metadata": {},
   "source": [
    "These files are in the publications directory, one directory below where we're working from."
   ]
  },
  {
   "cell_type": "code",
   "execution_count": 23,
   "metadata": {
    "collapsed": false,
    "deletable": true,
    "editable": true
   },
   "outputs": [
    {
     "name": "stdout",
     "output_type": "stream",
     "text": [
      "2009-10-01-paper-title-number-1.md 2021-03-01-leap-paper.md\n",
      "2010-10-01-paper-title-number-2.md 2021-09-01-cpp-benchmark-paper.md\n",
      "2015-10-01-paper-title-number-3.md 2021-09-01-drip-paper.md\n",
      "2018-10-25-kddcup99-paper.md       2021-09-01-paper-title-number-1.md\n",
      "2020-09-01-eps-paper.md\n"
     ]
    }
   ],
   "source": [
    "!ls ../_publications/"
   ]
  },
  {
   "cell_type": "code",
   "execution_count": 24,
   "metadata": {
    "collapsed": false,
    "deletable": true,
    "editable": true
   },
   "outputs": [
    {
     "name": "stdout",
     "output_type": "stream",
     "text": [
      "---\n",
      "title: \"LEAP: LEAf node Predictions in the wild\"\n",
      "collection: publications\n",
      "permalink: /publication/2021-03-01-leap-paper\n",
      "excerpt: 'This paper is about the number 1. The number 2 is left for future work.'\n",
      "date: 2021-03-01\n",
      "venue: '2nd ASCS Applied Science Workshop, 2021'\n",
      "paperurl: '(internal)'\n",
      "citation: '<u>Abhishek Divekar</u>, Vinayak Puranik, Zhenyu Shi, Jinmiao Fu, Nikhil Rasiwasia (2021). &quot;LEAP: LEAf node Predictions in the wild&quot; <i>2nd ASCS Applied Science Workshop, 2021</i> (Oral)'\n",
      "---\n",
      "This paper is about the number 1. The number 2 is left for future work.\n",
      "\n",
      "[Download paper here]((internal))\n",
      "\n",
      "Recommended citation: <u>Abhishek Divekar</u>, Vinayak Puranik, Zhenyu Shi, Jinmiao Fu, Nikhil Rasiwasia (2021). \"LEAP: LEAf node Predictions in the wild\" <i>2nd ASCS Applied Science Workshop, 2021</i> (Oral)"
     ]
    }
   ],
   "source": [
    "!cat ../_publications/2021-03-01-leap-paper.md"
   ]
  },
  {
   "cell_type": "code",
   "execution_count": null,
   "metadata": {
    "collapsed": true,
    "deletable": true,
    "editable": true
   },
   "outputs": [],
   "source": []
  }
 ],
 "metadata": {
  "kernelspec": {
   "display_name": "Python 3.10.8 64-bit",
   "language": "python",
   "name": "python3"
  },
  "language_info": {
   "codemirror_mode": {
    "name": "ipython",
    "version": 3
   },
   "file_extension": ".py",
   "mimetype": "text/x-python",
   "name": "python",
   "nbconvert_exporter": "python",
   "pygments_lexer": "ipython3",
   "version": "3.10.8"
  },
  "vscode": {
   "interpreter": {
    "hash": "b0fa6594d8f4cbf19f97940f81e996739fb7646882a419484c72d19e05852a7e"
   }
  }
 },
 "nbformat": 4,
 "nbformat_minor": 0
}

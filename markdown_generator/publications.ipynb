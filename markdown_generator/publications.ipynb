{
 "cells": [
  {
   "cell_type": "markdown",
   "metadata": {
    "deletable": true,
    "editable": true
   },
   "source": [
    "# Publications markdown generator for academicpages\n",
    "\n",
    "Takes a TSV of publications with metadata and converts them for use with [academicpages.github.io](academicpages.github.io). This is an interactive Jupyter notebook ([see more info here](http://jupyter-notebook-beginner-guide.readthedocs.io/en/latest/what_is_jupyter.html)). The core python code is also in `publications.py`. Run either from the `markdown_generator` folder after replacing `publications.tsv` with one containing your data.\n",
    "\n",
    "TODO: Make this work with BibTex and other databases of citations, rather than Stuart's non-standard TSV format and citation style.\n"
   ]
  },
  {
   "cell_type": "markdown",
   "metadata": {},
   "source": [
    "## Data format\n",
    "\n",
    "The TSV needs to have the following columns: pub_date, title, venue, excerpt, citation, site_url, and paper_url, with a header at the top. \n",
    "\n",
    "- `excerpt` and `paper_url` can be blank, but the others must have values. \n",
    "- `pub_date` must be formatted as YYYY-MM-DD.\n",
    "- `url_slug` will be the descriptive part of the .md file and the permalink URL for the page about the paper. The .md file will be `YYYY-MM-DD-[url_slug].md` and the permalink will be `https://[yourdomain]/publications/YYYY-MM-DD-[url_slug]`\n",
    "\n",
    "This is how the raw file looks (it doesn't look pretty, use a spreadsheet or other program to edit and create)."
   ]
  },
  {
   "cell_type": "code",
   "execution_count": 345,
   "metadata": {},
   "outputs": [
    {
     "data": {
      "text/plain": [
       "2"
      ]
     },
     "execution_count": 345,
     "metadata": {},
     "output_type": "execute_result"
    }
   ],
   "source": [
    "1+1"
   ]
  },
  {
   "cell_type": "code",
   "execution_count": 346,
   "metadata": {
    "collapsed": false
   },
   "outputs": [
    {
     "name": "stdout",
     "output_type": "stream",
     "text": [
      "[\n",
      "    {\n",
      "        \"title\": \"Unsupervised text augmentation using Pre-trained Paraphrase Generation\",\n",
      "        \"pub_date\": \"2023-09-01\", \n",
      "        \"url_slug\": \"grok-paper\", \n",
      "        \"paper_url\": \"\",\n",
      "        \"teaser_url\": \"\",\n",
      "        \"venue\": \"(Preprint)\", \n",
      "        \"acceptance_rate\": \"\",\n",
      "        \"acceptance_type\": \"\",\n",
      "        \"citation\": \"<i>(Preprint)</i> <u>Abhishek Divekar</u>, Mudit Agarwal, Srujana Merugu, and Nikhil Rasiwasia. <b>\\\"Unsupervised text augmentation using Pre-trained Paraphrase Generation\\\"</b>.\", \n",
      "        \"excerpt\": \"Unsupervised text augmentation has gained attention in recent years, as approaches which use pre-trained models to produce high-quality augmentations (such as Backtranslation [48]) are replacing simple rule-based noising to attain SOTA performance in fully- and semi-supervised settings [53]. Such approaches have benefits over other model-based text augmentations, as they are applicable to most natural language tasks and their efficacy does not rely on the availability or quality of ground-truths. However, it is difficult to ensure augmented covariates are neither homogeneous nor invalid. To address this, we introduce GROK Score, an unsupervised metric which measures the paraphrase quality of generated text: fluency, semantic fidelity and diversity. When used to re-rank and filter outputs from Beam Search decoding on pre-trained generative models, GROK captures a small subset of diverse generations, which are used as augmentations. We evaluate this strategy in realistic scenarios: “challenging” Amazon Product classification problems from the CPP MultiModal corpus (2.75-3.87 ROC-AUC below the average) with limited text data. Our results indicate that GROK requires 69.5% fewer augmented samples to match the performance of Backtranslation and rule-based Easy Data Augmentation (EDA) [51] across six classification algorithms. Additionally, tuning the GROK-filtering threshold using K-Fold cross-validation leads to an average lift of 0.28 ROC-AUC, improving performance over both EDA and Backtranslation for all algorithms, while requiring 30% fewer augmented samples (achieving 0.53 ROC-AUC lift for VowpalWabbit and 1.10 for WideAndDeep). Human evaluations comparing GROK to prominent metrics like BLEU, METEOR and ROUGE validate our hypothesis that GROK promotes text generations having high diversity, indicating its utility beyond augmentation.\"\n",
      "    },\n",
      "    {\n",
      "        \"title\": \"Squeezing the last DRiP: AutoML for cost-constrained Product classification\",\n",
      "        \"pub_date\": \"2021-09-01\", \n",
      "        \"url_slug\": \"drip-paper\", \n",
      "        \"paper_url\": \"(internal)\",\n",
      "        \"teaser_url\": \"\",\n",
      "        \"alternative_url\": \"<a href=\\\"https://adivekar-utexas.github.io/files/Squeezing_the_last_DRiP_ARD_2021_slides.pdf\\\">Talk at Amazon Research Days 2021</a>\",\n",
      "        \"venue\": \"Amazon Machine Learning Conference (AMLC)\", \n",
      "        \"acceptance_rate\": \"30%\",\n",
      "        \"acceptance_type\": \"Poster\",\n",
      "        \"citation\": \"<u>Abhishek Divekar</u>*, Gaurav Manchanda*, Prit Raj, Abhishek Das, Karan Tanwar, Akshay Jagatap, Vinayak Puranik, Jagannathan Srinivasan, Ramakrishna Nalam, and Nikhil Rasiwasia. <b>\\\"Squeezing the last DRiP: AutoML for cost-constrained product classification\\\"</b>. <i>9th conference of Amazon Machine Learning (AMLC 2021)</i>\", \n",
      "        \"excerpt\": \"Recent progress in automated machine learning (AutoML), has shown that both hyperparameter search and stacking models can achieve performance that beats the median Kaggle competitor on standard classification metrics [13]. However, solutions that directly optimize cost of executing such models within minimal loss of performance have been sparingly explored. The challenge faced by current techniques is the lack of apriori knowledge of the deployment environment in which the model must operate, and its associated constraints (such as request batch-size or prediction latency). This shortcoming, however, affects a critical subset of users: business teams having cost-sensitive use-cases, who are unable to meet their goals if an AutoML-suggested model is expensive during training or inference. To bridge this gap, we propose DRiP, a versatile ML framework which encapsulates the phases needed for an automated system to select and iteratively refine candidate models while being constrained by an inference budget. We find that existing tools have individual capabilities that map to phases in our framework, but lack the overall capability to optimize against such constraints. Thus, we present our implementation of this framework as a new AutoML tool. When compared across 38 product classification datasets and various business use-cases, we find that DRiP is able to obtain 99.96% of the ROC-AUC performance of the best SOTA AutoML systems (AutoGluon and H2O.ai) at 37% of the cost. When tuned to minimize cost, DRiP offers better cost and performance than comparably optimized AutoML systems (average 0.21 ROC-AUC increase at 44% of the cost of distilled AutoGluon). If no cost constraints are imposed, “Unrestricted” DRiP provides the best overall performance (98.42 ROC-AUC vs 98.18 for next-best AutoML system). Although we evaluate classification, the framework can be used to automatically optimize any machine learning task having well-defined performance and cost.\"\n",
      "    },\n",
      "    {\n",
      "        \"title\": \"CPP Multimodal AutoML Corpus and Benchmark\",\n",
      "        \"pub_date\": \"2021-09-01\", \n",
      "        \"url_slug\": \"cpp-benchmark-paper\", \n",
      "        \"paper_url\": \"(internal)\",\n",
      "        \"teaser_url\": \"\",\n",
      "        \"venue\": \"1st Workshop on MultiModal Learning and Fusion, Amazon Machine Learning Conference\", \n",
      "        \"acceptance_rate\": \"\",\n",
      "        \"acceptance_type\": \"Oral\",\n",
      "        \"citation\": \"Andrew Borthwick, <u>Abhishek Divekar</u>, Nick Erickson, Fayaz Ahmed Farooque, Oleg Kim, Nikhil Rasiwasia, and Ethan Xu. <b>\\\"The CPP Multimodal AutoML Corpus and Benchmark\\\"</b>. <i>1st AMLC Workshop on MultiModal Learning and Fusion at the 9th conference of Amazon Machine Learning (AMLC 2021)</i>\", \n",
      "        \"excerpt\": \"A collection of 40 binary classification datasets was acquired from an integrated AutoML, active learning, and human labeling system for Amazon products known as ”CPP AutoML”. Each dataset consists of an identical schema of 39 attributes including numeric, categorical, text, image and date attributes. Each dataset represents a real business problem that is being solved by the CPP AutoML platform. In this paper, we discuss the construction and structure of this corpus. We also discuss the challenges of evaluating AutoML algorithms for the “hands off the wheel” business requirements of CPP AutoML. Finally, we present short descriptions and benchmark metrics over this corpus for a collection of algorithms. These algorithms include the CPP AutoML production baseline, two common machine learning baselines, two publicly available Amazon AutoML solutions (AutoGluon and SageMaker AutoPilot), and two novel AutoML solutions. The novel AutoML solutions exhibit particularly strong performance relative to the production baseline. One of these solutions exercises new functionality added to AutoGluon to stack and ensemble a ResNet image model fine tuned on raw image features, used in addition to the tabular models already trained in standard AutoGluon. The other solution, EPS-Ensemble, combines standard gradient-boosted trees and logistic regression models with Transformer networks pre-trained on the Amazon catalog using different self-supervised objectives.\"\n",
      "    },\n",
      "    {\n",
      "        \"title\": \"LEAP: LEAf node Predictions in the wild\",\n",
      "        \"pub_date\": \"2021-03-01\", \n",
      "        \"url_slug\": \"leap-paper\", \n",
      "        \"paper_url\": \"(internal)\",\n",
      "        \"teaser_url\": \"\",\n",
      "        \"venue\": \"2nd ASCS Applied Science Workshop\", \n",
      "        \"acceptance_rate\": \"\",\n",
      "        \"acceptance_type\": \"Oral\",\n",
      "        \"citation\": \"<u>Abhishek Divekar</u>, Vinayak Puranik, Zhenyu Shi, Jinmiao Fu, and Nikhil Rasiwasia. <b>\\\"LEAP: LEAf node Predictions in the wild\\\"</b>. <i>2nd ASCS Applied Science Workshop, 2021</i>\", \n",
      "        \"excerpt\": \"The data available in Amazon's catalog is rich and diverse; however, it is also highly irregular and often challenging to employ directly for business or Machine Learning applications. Frequent issues include low fill-rate of catalog attributes, noise in attributes, dataset shift between train and real-world distributions, and potential abuse in externally-sourced fields such as Generic Keywords and Browse Node. In this paper, we work backward from the goal of building high-precision classifiers to predict “Leaf Nodes” of Amazon's Browse taxonomy, to address the issue of purposeful or accidental mis-noding in the face of aforementioned challenges. Our findings indicate that weakly-supervised datasets collected using intuitive filters - based on Glance Views (GVs) and Total Orders - are effective in eliminating potential noise in the training data (2-4% improvement in accuracy). Further, evaluating a curated set of algorithms illustrates problems inherent in weak supervision that affect both linear models and pre-trained Transformer architectures. To address these problems, we explore multi-modal ensembling and show how ensembles combining multiple information sources outperform models trained on a single modality (additional 2-5% improvement in accuracy). Finally, we describe our success deploying these models on the IN marketplace to automatically correct Leaf Nodes for high-GV and 0-GV products, which has led to >3.5X improvement in audit efficiency and 5.5MM Leaf Node corrections overall.\"\n",
      "    },\n",
      "    {\n",
      "        \"title\": \"Entity Prediction Service: a configurable, end-to-end AutoML system\",\n",
      "        \"pub_date\": \"2020-09-01\", \n",
      "        \"url_slug\": \"eps-paper\", \n",
      "        \"paper_url\": \"(internal)\",\n",
      "        \"teaser_url\": \"\",\n",
      "        \"venue\": \"Workshop on Automated Machine Learning, Amazon Machine Learning Conference\", \n",
      "        \"acceptance_rate\": \"\",\n",
      "        \"acceptance_type\": \"Poster\",\n",
      "        \"citation\": \"Gaurav Manchanda*, <u>Abhishek Divekar</u>*, Akshay Jagatap, Prit Raj, Vinayak Puranik, Nikhil Rasiwasia, Ramakrishna Nalam, and Jagannathan Srinivasa. <b>\\\"Entity Prediction Service: a configurable, end-to-end AutoML system\\\"</b>. <i>Workshop on Automated Machine Learning at the 8th conference of Amazon Machine Learning (AMLC 2020)</i>\",\n",
      "        \"excerpt\": \"Business teams at Amazon often need to classify products into different taxonomies such as GL, item type keyword (ITK), category/sub-category, browse node, tax code, export-compliance-code and hazmat. Due to the lack of ML expertise, these teams end up relying on human auditors or manually codify rules, which is not scalable or do not work in cases having data with high diversity. Existing ML solutions for AutoML product classification are either stand-alone applications that push the burden of model productionization onto users (e.g. SageMaker Autopilot and AutoGluon), or are production-friendly, but lack state-of-the-art AutoML capabilities and do not leverage the agility offered by modern tech ecosystems. In this paper, we present Entity Prediction Service (EPS), a configurable product classification solution designed to serve the end-to-end needs of Amazon teams. Leveraging the robust ecosystem of AWS services and Docker, EPS automatically fetches and pre-processes data from internal data sources, trains and tunes models, performs inference, and enables one-click deployment into production. Each step offers a granular level of configurability, with default parameters backed by a robust set of scientific benchmarks. This helps serve customers across the spectrum of Machine Learning expertise, enabling Business Associates, SDEs and Applied Scientists to build high quality product classification models and deploy them on Amazon systems for continuous classification.\"\n",
      "    },\n",
      "    {\n",
      "        \"title\": \"Benchmarking datasets for Anomaly-based Network Intrusion Detection: KDD CUP 99 alternatives\",\n",
      "        \"pub_date\": \"2018-10-25\", \n",
      "        \"url_slug\": \"kddcup99-paper\", \n",
      "        \"paper_url\": \"https://arxiv.org/abs/1811.05372\",\n",
      "        \"teaser_url\": \"\",\n",
      "        \"venue\": \"IEEE International Conference on Computing, Communication and Security\", \n",
      "        \"acceptance_rate\": \"\",\n",
      "        \"acceptance_type\": \"Oral\",\n",
      "        \"citation\": \"<u>Abhishek Divekar</u>, Meet Parekh, Vaibhav Savla, Rudra Mishra, and Mahesh Shirole. <b>\\\"Benchmarking datasets for Anomaly-based Network Intrusion Detection: KDD CUP 99 alternatives\\\"</b>. <i>IEEE International Conference on Computing, Communication and Security (ICCCS 2018)</i>\",\n",
      "        \"excerpt\": \"Machine Learning has been steadily gaining traction for its use in Anomaly-based Network Intrusion Detection Systems (A-NIDS). Research into this domain is frequently performed using the KDD~CUP~99 dataset as a benchmark. Several studies question its usability while constructing a contemporary NIDS, due to the skewed response distribution, non-stationarity, and failure to incorporate modern attacks. In this paper, we compare the performance for KDD-99 alternatives when trained using classification models commonly found in literature: Neural Network, Support Vector Machine, Decision Tree, Random Forest, Naive Bayes and K-Means. Applying the SMOTE oversampling technique and random undersampling, we create a balanced version of NSL-KDD and prove that skewed target classes in KDD-99 and NSL-KDD hamper the efficacy of classifiers on minority classes (U2R and R2L), leading to possible security risks. We explore UNSW-NB15, a modern substitute to KDD-99 with greater uniformity of pattern distribution. We benchmark this dataset before and after SMOTE oversampling to observe the effect on minority performance. Our results indicate that classifiers trained on UNSW-NB15 match or better the Weighted F1-Score of those trained on NSL-KDD and KDD-99 in the binary case, thus advocating UNSW-NB15 as a modern substitute to these datasets.\"\n",
      "    }\n",
      "]"
     ]
    }
   ],
   "source": [
    "!cat publications.json"
   ]
  },
  {
   "cell_type": "markdown",
   "metadata": {},
   "source": [
    "## Import pandas\n",
    "\n",
    "We are using the very handy pandas library for dataframes."
   ]
  },
  {
   "cell_type": "code",
   "execution_count": 347,
   "metadata": {
    "collapsed": true,
    "deletable": true,
    "editable": true
   },
   "outputs": [],
   "source": [
    "import pandas as pd"
   ]
  },
  {
   "cell_type": "markdown",
   "metadata": {},
   "source": [
    "## Import TSV\n",
    "\n",
    "Pandas makes this easy with the read_csv function. We are using a TSV, so we specify the separator as a tab, or `\\t`.\n",
    "\n",
    "I found it important to put this data in a tab-separated values format, because there are a lot of commas in this kind of data and comma-separated values can get messed up. However, you can modify the import statement, as pandas also has read_excel(), read_json(), and others."
   ]
  },
  {
   "cell_type": "code",
   "execution_count": 348,
   "metadata": {
    "collapsed": false,
    "deletable": true,
    "editable": true
   },
   "outputs": [
    {
     "data": {
      "text/html": [
       "<div>\n",
       "<style scoped>\n",
       "    .dataframe tbody tr th:only-of-type {\n",
       "        vertical-align: middle;\n",
       "    }\n",
       "\n",
       "    .dataframe tbody tr th {\n",
       "        vertical-align: top;\n",
       "    }\n",
       "\n",
       "    .dataframe thead th {\n",
       "        text-align: right;\n",
       "    }\n",
       "</style>\n",
       "<table border=\"1\" class=\"dataframe\">\n",
       "  <thead>\n",
       "    <tr style=\"text-align: right;\">\n",
       "      <th></th>\n",
       "      <th>title</th>\n",
       "      <th>pub_date</th>\n",
       "      <th>url_slug</th>\n",
       "      <th>paper_url</th>\n",
       "      <th>teaser_url</th>\n",
       "      <th>venue</th>\n",
       "      <th>acceptance_rate</th>\n",
       "      <th>acceptance_type</th>\n",
       "      <th>citation</th>\n",
       "      <th>excerpt</th>\n",
       "      <th>alternative_url</th>\n",
       "    </tr>\n",
       "  </thead>\n",
       "  <tbody>\n",
       "    <tr>\n",
       "      <th>0</th>\n",
       "      <td>Unsupervised text augmentation using Pre-train...</td>\n",
       "      <td>2023-09-01</td>\n",
       "      <td>grok-paper</td>\n",
       "      <td></td>\n",
       "      <td></td>\n",
       "      <td>(Preprint)</td>\n",
       "      <td></td>\n",
       "      <td></td>\n",
       "      <td>&lt;i&gt;(Preprint)&lt;/i&gt; &lt;u&gt;Abhishek Divekar&lt;/u&gt;, Mud...</td>\n",
       "      <td>Unsupervised text augmentation has gained atte...</td>\n",
       "      <td>NaN</td>\n",
       "    </tr>\n",
       "    <tr>\n",
       "      <th>1</th>\n",
       "      <td>Squeezing the last DRiP: AutoML for cost-const...</td>\n",
       "      <td>2021-09-01</td>\n",
       "      <td>drip-paper</td>\n",
       "      <td>(internal)</td>\n",
       "      <td></td>\n",
       "      <td>Amazon Machine Learning Conference (AMLC)</td>\n",
       "      <td>30%</td>\n",
       "      <td>Poster</td>\n",
       "      <td>&lt;u&gt;Abhishek Divekar&lt;/u&gt;*, Gaurav Manchanda*, P...</td>\n",
       "      <td>Recent progress in automated machine learning ...</td>\n",
       "      <td>&lt;a href=\"https://adivekar-utexas.github.io/fil...</td>\n",
       "    </tr>\n",
       "    <tr>\n",
       "      <th>2</th>\n",
       "      <td>CPP Multimodal AutoML Corpus and Benchmark</td>\n",
       "      <td>2021-09-01</td>\n",
       "      <td>cpp-benchmark-paper</td>\n",
       "      <td>(internal)</td>\n",
       "      <td></td>\n",
       "      <td>1st Workshop on MultiModal Learning and Fusion...</td>\n",
       "      <td></td>\n",
       "      <td>Oral</td>\n",
       "      <td>Andrew Borthwick, &lt;u&gt;Abhishek Divekar&lt;/u&gt;, Nic...</td>\n",
       "      <td>A collection of 40 binary classification datas...</td>\n",
       "      <td>NaN</td>\n",
       "    </tr>\n",
       "    <tr>\n",
       "      <th>3</th>\n",
       "      <td>LEAP: LEAf node Predictions in the wild</td>\n",
       "      <td>2021-03-01</td>\n",
       "      <td>leap-paper</td>\n",
       "      <td>(internal)</td>\n",
       "      <td></td>\n",
       "      <td>2nd ASCS Applied Science Workshop</td>\n",
       "      <td></td>\n",
       "      <td>Oral</td>\n",
       "      <td>&lt;u&gt;Abhishek Divekar&lt;/u&gt;, Vinayak Puranik, Zhen...</td>\n",
       "      <td>The data available in Amazon's catalog is rich...</td>\n",
       "      <td>NaN</td>\n",
       "    </tr>\n",
       "    <tr>\n",
       "      <th>4</th>\n",
       "      <td>Entity Prediction Service: a configurable, end...</td>\n",
       "      <td>2020-09-01</td>\n",
       "      <td>eps-paper</td>\n",
       "      <td>(internal)</td>\n",
       "      <td></td>\n",
       "      <td>Workshop on Automated Machine Learning, Amazon...</td>\n",
       "      <td></td>\n",
       "      <td>Poster</td>\n",
       "      <td>Gaurav Manchanda*, &lt;u&gt;Abhishek Divekar&lt;/u&gt;*, A...</td>\n",
       "      <td>Business teams at Amazon often need to classif...</td>\n",
       "      <td>NaN</td>\n",
       "    </tr>\n",
       "    <tr>\n",
       "      <th>5</th>\n",
       "      <td>Benchmarking datasets for Anomaly-based Networ...</td>\n",
       "      <td>2018-10-25</td>\n",
       "      <td>kddcup99-paper</td>\n",
       "      <td>https://arxiv.org/abs/1811.05372</td>\n",
       "      <td></td>\n",
       "      <td>IEEE International Conference on Computing, Co...</td>\n",
       "      <td></td>\n",
       "      <td>Oral</td>\n",
       "      <td>&lt;u&gt;Abhishek Divekar&lt;/u&gt;, Meet Parekh, Vaibhav ...</td>\n",
       "      <td>Machine Learning has been steadily gaining tra...</td>\n",
       "      <td>NaN</td>\n",
       "    </tr>\n",
       "  </tbody>\n",
       "</table>\n",
       "</div>"
      ],
      "text/plain": [
       "                                               title    pub_date  \\\n",
       "0  Unsupervised text augmentation using Pre-train...  2023-09-01   \n",
       "1  Squeezing the last DRiP: AutoML for cost-const...  2021-09-01   \n",
       "2         CPP Multimodal AutoML Corpus and Benchmark  2021-09-01   \n",
       "3            LEAP: LEAf node Predictions in the wild  2021-03-01   \n",
       "4  Entity Prediction Service: a configurable, end...  2020-09-01   \n",
       "5  Benchmarking datasets for Anomaly-based Networ...  2018-10-25   \n",
       "\n",
       "              url_slug                         paper_url teaser_url  \\\n",
       "0           grok-paper                                                \n",
       "1           drip-paper                        (internal)              \n",
       "2  cpp-benchmark-paper                        (internal)              \n",
       "3           leap-paper                        (internal)              \n",
       "4            eps-paper                        (internal)              \n",
       "5       kddcup99-paper  https://arxiv.org/abs/1811.05372              \n",
       "\n",
       "                                               venue acceptance_rate  \\\n",
       "0                                         (Preprint)                   \n",
       "1          Amazon Machine Learning Conference (AMLC)             30%   \n",
       "2  1st Workshop on MultiModal Learning and Fusion...                   \n",
       "3                  2nd ASCS Applied Science Workshop                   \n",
       "4  Workshop on Automated Machine Learning, Amazon...                   \n",
       "5  IEEE International Conference on Computing, Co...                   \n",
       "\n",
       "  acceptance_type                                           citation  \\\n",
       "0                  <i>(Preprint)</i> <u>Abhishek Divekar</u>, Mud...   \n",
       "1          Poster  <u>Abhishek Divekar</u>*, Gaurav Manchanda*, P...   \n",
       "2            Oral  Andrew Borthwick, <u>Abhishek Divekar</u>, Nic...   \n",
       "3            Oral  <u>Abhishek Divekar</u>, Vinayak Puranik, Zhen...   \n",
       "4          Poster  Gaurav Manchanda*, <u>Abhishek Divekar</u>*, A...   \n",
       "5            Oral  <u>Abhishek Divekar</u>, Meet Parekh, Vaibhav ...   \n",
       "\n",
       "                                             excerpt  \\\n",
       "0  Unsupervised text augmentation has gained atte...   \n",
       "1  Recent progress in automated machine learning ...   \n",
       "2  A collection of 40 binary classification datas...   \n",
       "3  The data available in Amazon's catalog is rich...   \n",
       "4  Business teams at Amazon often need to classif...   \n",
       "5  Machine Learning has been steadily gaining tra...   \n",
       "\n",
       "                                     alternative_url  \n",
       "0                                                NaN  \n",
       "1  <a href=\"https://adivekar-utexas.github.io/fil...  \n",
       "2                                                NaN  \n",
       "3                                                NaN  \n",
       "4                                                NaN  \n",
       "5                                                NaN  "
      ]
     },
     "execution_count": 348,
     "metadata": {},
     "output_type": "execute_result"
    }
   ],
   "source": [
    "publications = pd.read_json(\"publications.json\")\n",
    "publications "
   ]
  },
  {
   "cell_type": "markdown",
   "metadata": {},
   "source": [
    "## Escape special characters\n",
    "\n",
    "YAML is very picky about how it takes a valid string, so we are replacing single and double quotes (and ampersands) with their HTML encoded equivilents. This makes them look not so readable in raw format, but they are parsed and rendered nicely."
   ]
  },
  {
   "cell_type": "code",
   "execution_count": 349,
   "metadata": {
    "collapsed": true,
    "deletable": true,
    "editable": true
   },
   "outputs": [],
   "source": [
    "html_escape_table = {\n",
    "    \"&\": \"&amp;\",\n",
    "    '\"': \"&quot;\",\n",
    "    \"'\": \"&apos;\"\n",
    "    }\n",
    "\n",
    "def html_escape(text):\n",
    "    \"\"\"Produce entities within text.\"\"\"\n",
    "    return \"\".join(html_escape_table.get(c,c) for c in text)"
   ]
  },
  {
   "cell_type": "markdown",
   "metadata": {},
   "source": [
    "## Creating the markdown files\n",
    "\n",
    "This is where the heavy lifting is done. This loops through all the rows in the TSV dataframe, then starts to concatentate a big string (```md```) that contains the markdown for each type. It does the YAML metadata first, then does the description for the individual page."
   ]
  },
  {
   "cell_type": "code",
   "execution_count": 350,
   "metadata": {
    "collapsed": false,
    "deletable": true,
    "editable": true
   },
   "outputs": [],
   "source": [
    "import os\n",
    "for row, item in publications.iterrows():\n",
    "    md_filename = str(item.pub_date) + \"-\" + item.url_slug + \".md\"\n",
    "    html_filename = str(item.pub_date) + \"-\" + item.url_slug\n",
    "    year = item.pub_date[:4]\n",
    "    \n",
    "    ## YAML variables\n",
    "    md = \"---\\ntitle: \\\"\"   + item.title + '\"'\n",
    "    md += \"\\ncollection: publications\"\n",
    "    md += f'\\nurlslug: \"{item.url_slug}\"'\n",
    "    md += \"\"\"\\npermalink: /publication/\"\"\" + html_filename\n",
    "    if len(str(item.excerpt)) > 5:\n",
    "        md += \"\\nexcerpt: '\" + html_escape(item.excerpt) + \"'\"\n",
    "    md += \"\\ndate: \" + str(item.pub_date) \n",
    "    md += \"\\nvenue: '\" + html_escape(item.venue) + \"'\"\n",
    "    if len(str(item.paper_url)) > 5:\n",
    "        md += \"\\npaperurl: '\" + item.paper_url + \"'\"\n",
    "    if len(str(item.acceptance_rate)) > 0:\n",
    "        md += \"\\nacceptancerate: '\" + item.acceptance_rate + \"'\"\n",
    "    if len(str(item.acceptance_type)) > 0:\n",
    "        md += \"\\nacceptancetype: '\" + item.acceptance_type + \"'\"\n",
    "    if len(str(item.alternative_url)) > 5:\n",
    "        md += \"\\nalternativeurl: '\" + item.alternative_url + \"'\"\n",
    "    if len(str(item.teaser_url)) > 5:\n",
    "        md += \"\\nteaserurl: '\" + item.teaser_url + \"'\"\n",
    "    md += \"\\ncitation: '\" + html_escape(item.citation) + \"'\"\n",
    "    md += \"\\n---\"\n",
    "    \n",
    "    ## Markdown description for individual page\n",
    "    if len(str(item.excerpt)) > 5:\n",
    "        md += \"\\n\" + html_escape(item.excerpt) + \"\\n\"\n",
    "    if len(str(item.paper_url)) > 5 and \"internal\" not in str(item.paper_url):\n",
    "        md += \"\\n[Download](\" + item.paper_url + \")\\n\"  \n",
    "    md += f\"\\nCitation: {item.citation} \"\n",
    "    if len(str(item.acceptance_type)) > 0:\n",
    "        md += f\"({item.acceptance_type}) \"\n",
    "    if len(str(item.acceptance_rate)) > 0:\n",
    "        md += f\"(acceptance-rate: {item.acceptance_rate}) \"\n",
    "    md_filename = os.path.basename(md_filename)\n",
    "    with open(\"../_publications/\" + md_filename, 'w') as f:\n",
    "        f.write(md)"
   ]
  },
  {
   "cell_type": "markdown",
   "metadata": {},
   "source": [
    "These files are in the publications directory, one directory below where we're working from."
   ]
  },
  {
   "cell_type": "code",
   "execution_count": 351,
   "metadata": {
    "collapsed": false,
    "deletable": true,
    "editable": true
   },
   "outputs": [
    {
     "name": "stdout",
     "output_type": "stream",
     "text": [
      "2018-10-25-kddcup99-paper.md      2021-09-01-cpp-benchmark-paper.md\n",
      "2020-09-01-eps-paper.md           2021-09-01-drip-paper.md\n",
      "2021-03-01-leap-paper.md          2023-09-01-grok-paper.md\n"
     ]
    }
   ],
   "source": [
    "!ls ../_publications/"
   ]
  },
  {
   "cell_type": "code",
   "execution_count": 352,
   "metadata": {
    "collapsed": false,
    "deletable": true,
    "editable": true
   },
   "outputs": [
    {
     "name": "stdout",
     "output_type": "stream",
     "text": [
      "---\n",
      "title: \"LEAP: LEAf node Predictions in the wild\"\n",
      "collection: publications\n",
      "urlslug: \"leap-paper\"\n",
      "permalink: /publication/2021-03-01-leap-paper\n",
      "excerpt: 'The data available in Amazon&apos;s catalog is rich and diverse; however, it is also highly irregular and often challenging to employ directly for business or Machine Learning applications. Frequent issues include low fill-rate of catalog attributes, noise in attributes, dataset shift between train and real-world distributions, and potential abuse in externally-sourced fields such as Generic Keywords and Browse Node. In this paper, we work backward from the goal of building high-precision classifiers to predict “Leaf Nodes” of Amazon&apos;s Browse taxonomy, to address the issue of purposeful or accidental mis-noding in the face of aforementioned challenges. Our findings indicate that weakly-supervised datasets collected using intuitive filters - based on Glance Views (GVs) and Total Orders - are effective in eliminating potential noise in the training data (2-4% improvement in accuracy). Further, evaluating a curated set of algorithms illustrates problems inherent in weak supervision that affect both linear models and pre-trained Transformer architectures. To address these problems, we explore multi-modal ensembling and show how ensembles combining multiple information sources outperform models trained on a single modality (additional 2-5% improvement in accuracy). Finally, we describe our success deploying these models on the IN marketplace to automatically correct Leaf Nodes for high-GV and 0-GV products, which has led to >3.5X improvement in audit efficiency and 5.5MM Leaf Node corrections overall.'\n",
      "date: 2021-03-01\n",
      "venue: '2nd ASCS Applied Science Workshop'\n",
      "paperurl: '(internal)'\n",
      "acceptancetype: 'Oral'\n",
      "citation: '<u>Abhishek Divekar</u>, Vinayak Puranik, Zhenyu Shi, Jinmiao Fu, and Nikhil Rasiwasia. <b>&quot;LEAP: LEAf node Predictions in the wild&quot;</b>. <i>2nd ASCS Applied Science Workshop, 2021</i>'\n",
      "---\n",
      "The data available in Amazon&apos;s catalog is rich and diverse; however, it is also highly irregular and often challenging to employ directly for business or Machine Learning applications. Frequent issues include low fill-rate of catalog attributes, noise in attributes, dataset shift between train and real-world distributions, and potential abuse in externally-sourced fields such as Generic Keywords and Browse Node. In this paper, we work backward from the goal of building high-precision classifiers to predict “Leaf Nodes” of Amazon&apos;s Browse taxonomy, to address the issue of purposeful or accidental mis-noding in the face of aforementioned challenges. Our findings indicate that weakly-supervised datasets collected using intuitive filters - based on Glance Views (GVs) and Total Orders - are effective in eliminating potential noise in the training data (2-4% improvement in accuracy). Further, evaluating a curated set of algorithms illustrates problems inherent in weak supervision that affect both linear models and pre-trained Transformer architectures. To address these problems, we explore multi-modal ensembling and show how ensembles combining multiple information sources outperform models trained on a single modality (additional 2-5% improvement in accuracy). Finally, we describe our success deploying these models on the IN marketplace to automatically correct Leaf Nodes for high-GV and 0-GV products, which has led to >3.5X improvement in audit efficiency and 5.5MM Leaf Node corrections overall.\n",
      "\n",
      "Citation: <u>Abhishek Divekar</u>, Vinayak Puranik, Zhenyu Shi, Jinmiao Fu, and Nikhil Rasiwasia. <b>\"LEAP: LEAf node Predictions in the wild\"</b>. <i>2nd ASCS Applied Science Workshop, 2021</i> (Oral) "
     ]
    }
   ],
   "source": [
    "!cat ../_publications/2021-03-01-leap-paper.md"
   ]
  },
  {
   "cell_type": "code",
   "execution_count": 353,
   "metadata": {
    "collapsed": true,
    "deletable": true,
    "editable": true
   },
   "outputs": [
    {
     "name": "stdout",
     "output_type": "stream",
     "text": [
      "2023-01-01 21:18:50\n"
     ]
    }
   ],
   "source": [
    "from datetime import datetime\n",
    "print(datetime.now().strftime('%Y-%m-%d %H:%M:%S'))"
   ]
  },
  {
   "cell_type": "code",
   "execution_count": null,
   "metadata": {},
   "outputs": [],
   "source": []
  }
 ],
 "metadata": {
  "kernelspec": {
   "display_name": "Python 3.8.15 ('ghpages')",
   "language": "python",
   "name": "python3"
  },
  "language_info": {
   "codemirror_mode": {
    "name": "ipython",
    "version": 3
   },
   "file_extension": ".py",
   "mimetype": "text/x-python",
   "name": "python",
   "nbconvert_exporter": "python",
   "pygments_lexer": "ipython3",
   "version": "3.8.15"
  },
  "vscode": {
   "interpreter": {
    "hash": "06f7e23954b94c5e9c6c2692449a9adafbf148265f2ef39a8350fb6de62c0ffb"
   }
  }
 },
 "nbformat": 4,
 "nbformat_minor": 0
}

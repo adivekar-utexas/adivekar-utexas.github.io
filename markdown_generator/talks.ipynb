{
 "cells": [
  {
   "cell_type": "markdown",
   "metadata": {
    "deletable": true,
    "editable": true
   },
   "source": [
    "# Talks markdown generator for academicpages\n",
    "\n",
    "Takes a TSV of talks with metadata and converts them for use with [academicpages.github.io](academicpages.github.io). This is an interactive Jupyter notebook ([see more info here](http://jupyter-notebook-beginner-guide.readthedocs.io/en/latest/what_is_jupyter.html)). The core python code is also in `talks.py`. Run either from the `markdown_generator` folder after replacing `talks.tsv` with one containing your data.\n",
    "\n",
    "TODO: Make this work with BibTex and other databases, rather than Stuart's non-standard TSV format and citation style."
   ]
  },
  {
   "cell_type": "code",
   "execution_count": 217,
   "metadata": {
    "collapsed": false,
    "deletable": true,
    "editable": true
   },
   "outputs": [],
   "source": [
    "import pandas as pd\n",
    "import os"
   ]
  },
  {
   "cell_type": "markdown",
   "metadata": {},
   "source": [
    "## Data format\n",
    "\n",
    "The TSV needs to have the following columns: title, type, url_slug, venue, date, location, slides_url, video_url, excerpt, with a header at the top. Many of these fields can be blank, but the columns must be in the TSV.\n",
    "\n",
    "- Fields that cannot be blank: `title`, `url_slug`, `date`. All else can be blank. `type` defaults to \"Talk\" \n",
    "- `date` must be formatted as YYYY-MM-DD.\n",
    "- `url_slug` will be the descriptive part of the .md file and the permalink URL for the page about the paper. \n",
    "    - The .md file will be `YYYY-MM-DD-[url_slug].md` and the permalink will be `https://[yourdomain]/talks/YYYY-MM-DD-[url_slug]`\n",
    "    - The combination of `url_slug` and `date` must be unique, as it will be the basis for your filenames\n",
    "\n",
    "This is how the raw file looks (it doesn't look pretty, use a spreadsheet or other program to edit and create)."
   ]
  },
  {
   "cell_type": "code",
   "execution_count": 218,
   "metadata": {
    "collapsed": false
   },
   "outputs": [
    {
     "name": "stdout",
     "output_type": "stream",
     "text": [
      "[\n",
      "    {\n",
      "        \"title\": \"Flexible AutoML: Accelerating AutoML adoption across Amazon\",\n",
      "        \"type\": \"Talk\",\n",
      "        \"venue\": \"2nd International Conference on AI-ML Systems (AIMLSys 2022)\", \n",
      "        \"talk_date\": \"2022-10-07\", \n",
      "        \"url_slug\": \"litmus-aimlsys-2022-talk\", \n",
      "        \"teaser_url\": \"Flexible-AutoML-paradigm.png\",\n",
      "        \"video_url\": \"\",\n",
      "        \"slides_url\": \"https://adivekar-utexas.github.io/files/AIMLSys_2022_demo_vF.pdf\",\n",
      "        \"location\": \"Virtual\",\n",
      "        \"excerpt\": \"Current AutoML systems consider only two scenarios: (i) AutoML model meets performance bar, or (ii) model misses performance bar. Efforts have been dedicated to improving this ratio, but common issues are not addressed: (iii) model missed performance bar by 1% (iv) model is too slow in production (v) Custom model needs 6+ months to deploy. Different AutoML user-personas (Data Scientists, Engineers, Non-Tech) face different issues depending on their background. Flexible AutoML is a paradigm which addresses the needs of all personas. We present an experimentation platform, Litmus, which provides convenient interfaces for experimentation for each user-persona, is exetensible to new ML paradigms, and scales to large models and datasets. We further discuss how Litmus accelerates AutoML adoption across Amazon.\"\n",
      "    },\n",
      "    {\n",
      "        \"title\": \"Supervised Learning (Decision Trees, Bagging and Boosting algorithms)\",\n",
      "        \"type\": \"Lecture\",\n",
      "        \"venue\": \"Amazon ML Summer School 2022\", \n",
      "        \"talk_date\": \"2022-06-14\", \n",
      "        \"url_slug\": \"ml-summer-school-2022-lecture\", \n",
      "        \"teaser_url\": \"ML-Summer-School-2022-AdaBoost.png\",\n",
      "        \"video_url\": \"\",\n",
      "        \"slides_url\": \"https://adivekar-utexas.github.io/files/ML-Summer-School-2022-Supervised-Learning-part-2-Abhishek-slides.pdf\",\n",
      "        \"location\": \"Virtual\",\n",
      "        \"excerpt\": \"Amazon ML Summer School 2022 was an initiative which enrolled ~3,000 Indian undergraduate students and helped them learn key ML technologies from Amazon Scientists. I taught a module on Supervised Learning covering Decision Trees, Bagging and Boosting algorithms, followed by a 3-hour Q&A session to clarify student questions.\"\n",
      "    },\n",
      "    {\n",
      "        \"title\": \"Squeezing the last DRiP: AutoML for Cost-constrained Product Classification\",\n",
      "        \"type\": \"Talk\",\n",
      "        \"venue\": \"Amazon Research Days 2021 conference\", \n",
      "        \"talk_date\": \"2021-10-26\", \n",
      "        \"url_slug\": \"drip-ard-2021-talk\", \n",
      "        \"teaser_url\": \"DRiP-results.png\",\n",
      "        \"video_url\": \"\",\n",
      "        \"slides_url\": \"https://adivekar-utexas.github.io/files/Squeezing_the_last_DRiP_ARD_2021_slides.pdf\",\n",
      "        \"location\": \"Virtual\",\n",
      "        \"excerpt\": \"Current AutoML research aims to minimize the Discovery time of high-performing models, e.g. \\\"find best model within 30 mins\\\". However, ideally most models are trained, and used in production for months before refresh, meaning the costs operational cost of running an AutoML model in production far exceeds the one-time discovery cost. Instead, can AutoML systems discover high-performing models which operate within an explicit budget? We propose a new AutoML paradigm, DRiP (Discover-Refine-Productionize) which not only allows cost-backwards optimization, but produces a cost-performance tradeoff curve for users to choose an appropriate point. We compare to AutoGluon v0.2 and find that DRiP AutoML can be tuned to achieve: (i) On-par performance at low cost (ii) Minimum overall cost (iii) Maximum overall performance.\"\n",
      "    }\n",
      "]"
     ]
    }
   ],
   "source": [
    "!cat talks.json"
   ]
  },
  {
   "cell_type": "markdown",
   "metadata": {},
   "source": [
    "## Import TSV\n",
    "\n",
    "Pandas makes this easy with the read_csv function. We are using a TSV, so we specify the separator as a tab, or `\\t`.\n",
    "\n",
    "I found it important to put this data in a tab-separated values format, because there are a lot of commas in this kind of data and comma-separated values can get messed up. However, you can modify the import statement, as pandas also has read_excel(), read_json(), and others."
   ]
  },
  {
   "cell_type": "code",
   "execution_count": 219,
   "metadata": {
    "collapsed": false,
    "deletable": true,
    "editable": true
   },
   "outputs": [
    {
     "data": {
      "text/html": [
       "<div>\n",
       "<style scoped>\n",
       "    .dataframe tbody tr th:only-of-type {\n",
       "        vertical-align: middle;\n",
       "    }\n",
       "\n",
       "    .dataframe tbody tr th {\n",
       "        vertical-align: top;\n",
       "    }\n",
       "\n",
       "    .dataframe thead th {\n",
       "        text-align: right;\n",
       "    }\n",
       "</style>\n",
       "<table border=\"1\" class=\"dataframe\">\n",
       "  <thead>\n",
       "    <tr style=\"text-align: right;\">\n",
       "      <th></th>\n",
       "      <th>title</th>\n",
       "      <th>type</th>\n",
       "      <th>venue</th>\n",
       "      <th>talk_date</th>\n",
       "      <th>url_slug</th>\n",
       "      <th>teaser_url</th>\n",
       "      <th>video_url</th>\n",
       "      <th>slides_url</th>\n",
       "      <th>location</th>\n",
       "      <th>excerpt</th>\n",
       "    </tr>\n",
       "  </thead>\n",
       "  <tbody>\n",
       "    <tr>\n",
       "      <th>0</th>\n",
       "      <td>Flexible AutoML: Accelerating AutoML adoption ...</td>\n",
       "      <td>Talk</td>\n",
       "      <td>2nd International Conference on AI-ML Systems ...</td>\n",
       "      <td>2022-10-07</td>\n",
       "      <td>litmus-aimlsys-2022-talk</td>\n",
       "      <td>Flexible-AutoML-paradigm.png</td>\n",
       "      <td></td>\n",
       "      <td>https://adivekar-utexas.github.io/files/AIMLSy...</td>\n",
       "      <td>Virtual</td>\n",
       "      <td>Current AutoML systems consider only two scena...</td>\n",
       "    </tr>\n",
       "    <tr>\n",
       "      <th>1</th>\n",
       "      <td>Supervised Learning (Decision Trees, Bagging a...</td>\n",
       "      <td>Lecture</td>\n",
       "      <td>Amazon ML Summer School 2022</td>\n",
       "      <td>2022-06-14</td>\n",
       "      <td>ml-summer-school-2022-lecture</td>\n",
       "      <td>ML-Summer-School-2022-AdaBoost.png</td>\n",
       "      <td></td>\n",
       "      <td>https://adivekar-utexas.github.io/files/ML-Sum...</td>\n",
       "      <td>Virtual</td>\n",
       "      <td>Amazon ML Summer School 2022 was an initiative...</td>\n",
       "    </tr>\n",
       "    <tr>\n",
       "      <th>2</th>\n",
       "      <td>Squeezing the last DRiP: AutoML for Cost-const...</td>\n",
       "      <td>Talk</td>\n",
       "      <td>Amazon Research Days 2021 conference</td>\n",
       "      <td>2021-10-26</td>\n",
       "      <td>drip-ard-2021-talk</td>\n",
       "      <td>DRiP-results.png</td>\n",
       "      <td></td>\n",
       "      <td>https://adivekar-utexas.github.io/files/Squeez...</td>\n",
       "      <td>Virtual</td>\n",
       "      <td>Current AutoML research aims to minimize the D...</td>\n",
       "    </tr>\n",
       "  </tbody>\n",
       "</table>\n",
       "</div>"
      ],
      "text/plain": [
       "                                               title     type  \\\n",
       "0  Flexible AutoML: Accelerating AutoML adoption ...     Talk   \n",
       "1  Supervised Learning (Decision Trees, Bagging a...  Lecture   \n",
       "2  Squeezing the last DRiP: AutoML for Cost-const...     Talk   \n",
       "\n",
       "                                               venue   talk_date  \\\n",
       "0  2nd International Conference on AI-ML Systems ...  2022-10-07   \n",
       "1                       Amazon ML Summer School 2022  2022-06-14   \n",
       "2               Amazon Research Days 2021 conference  2021-10-26   \n",
       "\n",
       "                        url_slug                          teaser_url  \\\n",
       "0       litmus-aimlsys-2022-talk        Flexible-AutoML-paradigm.png   \n",
       "1  ml-summer-school-2022-lecture  ML-Summer-School-2022-AdaBoost.png   \n",
       "2             drip-ard-2021-talk                    DRiP-results.png   \n",
       "\n",
       "  video_url                                         slides_url location  \\\n",
       "0            https://adivekar-utexas.github.io/files/AIMLSy...  Virtual   \n",
       "1            https://adivekar-utexas.github.io/files/ML-Sum...  Virtual   \n",
       "2            https://adivekar-utexas.github.io/files/Squeez...  Virtual   \n",
       "\n",
       "                                             excerpt  \n",
       "0  Current AutoML systems consider only two scena...  \n",
       "1  Amazon ML Summer School 2022 was an initiative...  \n",
       "2  Current AutoML research aims to minimize the D...  "
      ]
     },
     "execution_count": 219,
     "metadata": {},
     "output_type": "execute_result"
    }
   ],
   "source": [
    "talks = pd.read_json(\"talks.json\")\n",
    "talks"
   ]
  },
  {
   "cell_type": "markdown",
   "metadata": {},
   "source": [
    "## Escape special characters\n",
    "\n",
    "YAML is very picky about how it takes a valid string, so we are replacing single and double quotes (and ampersands) with their HTML encoded equivilents. This makes them look not so readable in raw format, but they are parsed and rendered nicely."
   ]
  },
  {
   "cell_type": "code",
   "execution_count": 220,
   "metadata": {
    "collapsed": false,
    "deletable": true,
    "editable": true
   },
   "outputs": [],
   "source": [
    "html_escape_table = {\n",
    "    \"&\": \"&amp;\",\n",
    "    '\"': \"&quot;\",\n",
    "    \"'\": \"&apos;\"\n",
    "    }\n",
    "\n",
    "def html_escape(text):\n",
    "    if type(text) is str:\n",
    "        return \"\".join(html_escape_table.get(c,c) for c in text)\n",
    "    else:\n",
    "        return \"False\""
   ]
  },
  {
   "cell_type": "markdown",
   "metadata": {},
   "source": [
    "## Creating the markdown files\n",
    "\n",
    "This is where the heavy lifting is done. This loops through all the rows in the TSV dataframe, then starts to concatentate a big string (```md```) that contains the markdown for each type. It does the YAML metadata first, then does the description for the individual page."
   ]
  },
  {
   "cell_type": "code",
   "execution_count": 221,
   "metadata": {},
   "outputs": [
    {
     "data": {
      "text/plain": [
       "title         Squeezing the last DRiP: AutoML for Cost-const...\n",
       "type                                                       Talk\n",
       "venue                      Amazon Research Days 2021 conference\n",
       "talk_date                                            2021-10-26\n",
       "url_slug                                     drip-ard-2021-talk\n",
       "teaser_url                                     DRiP-results.png\n",
       "video_url                                                      \n",
       "slides_url    https://adivekar-utexas.github.io/files/Squeez...\n",
       "location                                                Virtual\n",
       "excerpt       Current AutoML research aims to minimize the D...\n",
       "Name: 2, dtype: object"
      ]
     },
     "execution_count": 221,
     "metadata": {},
     "output_type": "execute_result"
    }
   ],
   "source": [
    "item"
   ]
  },
  {
   "cell_type": "code",
   "execution_count": 222,
   "metadata": {
    "collapsed": false,
    "deletable": true,
    "editable": true
   },
   "outputs": [],
   "source": [
    "loc_dict = {}\n",
    "\n",
    "for row, item in talks.iterrows():\n",
    "    \n",
    "    md_filename = str(item.talk_date) + \"-\" + item.url_slug + \".md\"\n",
    "    html_filename = str(item.talk_date) + \"-\" + item.url_slug \n",
    "    year = item.talk_date[:4]\n",
    "    \n",
    "    md = \"---\\ntitle: \\\"\"   + item.title + '\"\\n'\n",
    "    md += \"collection: talks\" + \"\\n\"\n",
    "    md += f'urlslug: \"{item.url_slug }\"\\n'\n",
    "    if len(str(item.type)) > 3:\n",
    "        md += 'type: \"' + item.type + '\"\\n'\n",
    "    else:\n",
    "        md += 'type: \"Talk\"\\n'\n",
    "    md += \"permalink: /talks/\" + html_filename + \"\\n\"\n",
    "    if len(str(item.venue)) > 3:\n",
    "        md += 'venue: \"' + item.venue + '\"\\n'\n",
    "    if len(str(item.location)) > 3:\n",
    "        md += \"date: \" + str(item.talk_date) + \"\\n\"\n",
    "    if len(str(item.teaser_url)) > 5:\n",
    "        md += \"teaserurl: '\" + item.teaser_url + \"'\\n\"\n",
    "    if len(str(item.excerpt)) > 5:\n",
    "        md += \"excerpt: '\" + html_escape(item.excerpt) + \"'\\n\"\n",
    "    slides_url = None\n",
    "    video_url = None\n",
    "    if len(str(item.slides_url)) > 4:\n",
    "        slides_url = str(item.slides_url)\n",
    "        md += \"slidesurl: '\" + slides_url + \"'\\n\"\n",
    "    if len(str(item.video_url)) > 4:\n",
    "        video_url = str(item.video_url)\n",
    "        md += \"videourl: '\" + video_url + \"'\\n\"\n",
    "    if len(str(item.location)) > 3:\n",
    "        md += 'location: \"' + str(item.location) + '\"\\n'\n",
    "           \n",
    "    md += \"---\\n\"\n",
    "\n",
    "    more_info = []\n",
    "    if video_url is not None:\n",
    "        more_info.append(f'[[Recording]({video_url})]')\n",
    "    if slides_url is not None:\n",
    "        more_info.append(f'[[Slides]({slides_url})]')\n",
    "    if len(more_info) > 0:\n",
    "        md += f\"\\n**Resources:** {' '.join(more_info)}\\n\"\n",
    "    if len(str(item.excerpt)) > 4:\n",
    "        md += f\"\\n**Abstract:**\\n{html_escape(item.excerpt)}\\n\"\n",
    "        \n",
    "    md_filename = os.path.basename(md_filename)\n",
    "    #print(md)\n",
    "    \n",
    "    with open(\"../_talks/\" + md_filename, 'w') as f:\n",
    "        f.write(md)"
   ]
  },
  {
   "cell_type": "markdown",
   "metadata": {},
   "source": [
    "These files are in the talks directory, one directory below where we're working from."
   ]
  },
  {
   "cell_type": "code",
   "execution_count": 223,
   "metadata": {
    "collapsed": false,
    "deletable": true,
    "editable": true
   },
   "outputs": [
    {
     "name": "stdout",
     "output_type": "stream",
     "text": [
      "2021-10-26-drip-ard-2021-talk.md\n",
      "2022-06-14-ml-summer-school-2022-lecture.md\n",
      "2022-10-07-litmus-aimlsys-2022-talk.md\n"
     ]
    }
   ],
   "source": [
    "!ls ../_talks"
   ]
  },
  {
   "cell_type": "code",
   "execution_count": 224,
   "metadata": {
    "collapsed": false,
    "deletable": true,
    "editable": true
   },
   "outputs": [
    {
     "name": "stdout",
     "output_type": "stream",
     "text": [
      "---\n",
      "title: \"Supervised Learning (Decision Trees, Bagging and Boosting algorithms)\"\n",
      "collection: talks\n",
      "urlslug: \"ml-summer-school-2022-lecture\"\n",
      "type: \"Lecture\"\n",
      "permalink: /talks/2022-06-14-ml-summer-school-2022-lecture\n",
      "venue: \"Amazon ML Summer School 2022\"\n",
      "date: 2022-06-14\n",
      "teaserurl: 'ML-Summer-School-2022-AdaBoost.png'\n",
      "excerpt: 'Amazon ML Summer School 2022 was an initiative which enrolled ~3,000 Indian undergraduate students and helped them learn key ML technologies from Amazon Scientists. I taught a module on Supervised Learning covering Decision Trees, Bagging and Boosting algorithms, followed by a 3-hour Q&amp;A session to clarify student questions.'\n",
      "slidesurl: 'https://adivekar-utexas.github.io/files/ML-Summer-School-2022-Supervised-Learning-part-2-Abhishek-slides.pdf'\n",
      "location: \"Virtual\"\n",
      "---\n",
      "\n",
      "**Resources:** [[Slides](https://adivekar-utexas.github.io/files/ML-Summer-School-2022-Supervised-Learning-part-2-Abhishek-slides.pdf)]\n",
      "\n",
      "**Abstract:**\n",
      "Amazon ML Summer School 2022 was an initiative which enrolled ~3,000 Indian undergraduate students and helped them learn key ML technologies from Amazon Scientists. I taught a module on Supervised Learning covering Decision Trees, Bagging and Boosting algorithms, followed by a 3-hour Q&amp;A session to clarify student questions.\n"
     ]
    }
   ],
   "source": [
    "!cat ../_talks/2022-06-14-ml-summer-school-2022-lecture.md"
   ]
  }
 ],
 "metadata": {
  "kernelspec": {
   "display_name": "Python 3.8.15 ('ghpages')",
   "language": "python",
   "name": "python3"
  },
  "language_info": {
   "codemirror_mode": {
    "name": "ipython",
    "version": 3
   },
   "file_extension": ".py",
   "mimetype": "text/x-python",
   "name": "python",
   "nbconvert_exporter": "python",
   "pygments_lexer": "ipython3",
   "version": "3.8.15"
  },
  "vscode": {
   "interpreter": {
    "hash": "06f7e23954b94c5e9c6c2692449a9adafbf148265f2ef39a8350fb6de62c0ffb"
   }
  }
 },
 "nbformat": 4,
 "nbformat_minor": 0
}
